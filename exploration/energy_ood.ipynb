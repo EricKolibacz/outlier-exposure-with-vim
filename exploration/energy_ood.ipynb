{
 "cells": [
  {
   "attachments": {},
   "cell_type": "markdown",
   "metadata": {},
   "source": [
    "# Energy Out-of-distribution detection\n",
    "\n",
    "From the paper [Energy-based Out-of-distribution Detection](http://arxiv.org/abs/2010.03759). Let's explore the folder structure, the models and the available scripts and extract what we need for our ideas."
   ]
  },
  {
   "cell_type": "code",
   "execution_count": 1,
   "metadata": {},
   "outputs": [],
   "source": [
    "import torch\n",
    "from torchvision import datasets, transforms\n",
    "\n",
    "from anomaly_scores.energy import energy_anomaly_score\n",
    "from anomaly_scores.softmax import max_softmax_anomaly_score\n",
    "from energy_ood.CIFAR.models.wrn import WideResNet\n",
    "from energy_ood.utils.display_results import show_performance\n",
    "from energy_ood.utils.svhn_loader import SVHN\n",
    "from util import TEST_TRANSFORM\n",
    "from util.get_ood_score import get_ood_scores"
   ]
  },
  {
   "cell_type": "markdown",
   "metadata": {},
   "source": [
    "## Model\n",
    "\n",
    "We are using the Wide ResNet as in the paper."
   ]
  },
  {
   "cell_type": "code",
   "execution_count": 2,
   "metadata": {},
   "outputs": [],
   "source": [
    "model = WideResNet(depth=40, num_classes=10, widen_factor=2, dropRate=0.3)\n",
    "model.load_state_dict(\n",
    "    torch.load(\n",
    "        \"energy_ood/CIFAR/snapshots/pretrained/cifar10_wrn_pretrained_epoch_99.pt\",\n",
    "    )\n",
    ")\n",
    "model.eval()\n",
    "_ = model.cuda()"
   ]
  },
  {
   "attachments": {},
   "cell_type": "markdown",
   "metadata": {},
   "source": [
    "## The data\n",
    "Let's start with replicating the results from the paper. First, with the SVHN data set. "
   ]
  },
  {
   "cell_type": "code",
   "execution_count": 3,
   "metadata": {},
   "outputs": [],
   "source": [
    "loaders = []\n",
    "\n",
    "id_data = datasets.CIFAR10(\"data/cifar10\", train=False, transform=TEST_TRANSFORM)\n",
    "id_loader = torch.utils.data.DataLoader(\n",
    "    id_data, batch_size=200, shuffle=False, num_workers=2, pin_memory=True\n",
    ")\n",
    "loaders.append((\"CIFAR10\", id_loader))\n",
    "\n",
    "\n",
    "ood_data = SVHN(\n",
    "    root=\"data/svhn/\",\n",
    "    split=\"test\",\n",
    "    transform=TEST_TRANSFORM,\n",
    "    download=False,\n",
    ")\n",
    "ood_loader = torch.utils.data.DataLoader(\n",
    "    ood_data, batch_size=200, shuffle=True, num_workers=2, pin_memory=True\n",
    ")\n",
    "ood_num_examples = len(loaders[0][1].dataset) // 5\n",
    "loaders.append((\"SVHN\", ood_loader))"
   ]
  },
  {
   "attachments": {},
   "cell_type": "markdown",
   "metadata": {},
   "source": [
    "# Max Softmax anomaly score"
   ]
  },
  {
   "cell_type": "code",
   "execution_count": 4,
   "metadata": {},
   "outputs": [
    {
     "name": "stdout",
     "output_type": "stream",
     "text": [
      "\t\t\tMax Softmax\n",
      "FPR95:\t\t\t31.25\n",
      "AUROC:\t\t\t92.08\n",
      "AUPR:\t\t\t90.51\n"
     ]
    }
   ],
   "source": [
    "in_score = get_ood_scores(id_loader, model, max_softmax_anomaly_score, ood_num_examples, in_dist=True)\n",
    "out_score = get_ood_scores(ood_loader, model, max_softmax_anomaly_score, ood_num_examples)\n",
    "show_performance(out_score, in_score, method_name=\"Max Softmax\")"
   ]
  },
  {
   "attachments": {},
   "cell_type": "markdown",
   "metadata": {},
   "source": [
    "Can only reproduce the score of the paper when switching out and in. Is this reasonable?"
   ]
  },
  {
   "cell_type": "code",
   "execution_count": 5,
   "metadata": {},
   "outputs": [
    {
     "name": "stdout",
     "output_type": "stream",
     "text": [
      "\t\t\tMax Softmax\n",
      "FPR95:\t\t\t47.45\n",
      "AUROC:\t\t\t92.08\n",
      "AUPR:\t\t\t93.07\n"
     ]
    }
   ],
   "source": [
    "show_performance(-in_score, -out_score, method_name=\"Max Softmax\")"
   ]
  },
  {
   "attachments": {},
   "cell_type": "markdown",
   "metadata": {},
   "source": [
    "# Energy anomaly score"
   ]
  },
  {
   "cell_type": "code",
   "execution_count": 6,
   "metadata": {},
   "outputs": [
    {
     "name": "stdout",
     "output_type": "stream",
     "text": [
      "\t\t\tEnergy\n",
      "FPR95:\t\t\t45.50\n",
      "AUROC:\t\t\t90.83\n",
      "AUPR:\t\t\t90.79\n"
     ]
    }
   ],
   "source": [
    "in_score = get_ood_scores(\n",
    "    id_loader, model, energy_anomaly_score, ood_num_examples, in_dist=True\n",
    ")\n",
    "out_score = get_ood_scores(ood_loader, model, energy_anomaly_score, ood_num_examples)\n",
    "show_performance(out_score, in_score, method_name=\"Energy\")"
   ]
  },
  {
   "attachments": {},
   "cell_type": "markdown",
   "metadata": {},
   "source": [
    "And same here. Works only when switching the field?"
   ]
  },
  {
   "cell_type": "code",
   "execution_count": 7,
   "metadata": {},
   "outputs": [
    {
     "name": "stdout",
     "output_type": "stream",
     "text": [
      "\t\t\tEnergy\n",
      "FPR95:\t\t\t34.80\n",
      "AUROC:\t\t\t90.83\n",
      "AUPR:\t\t\t89.97\n"
     ]
    }
   ],
   "source": [
    "show_performance(-in_score, -out_score, method_name=\"Energy\")"
   ]
  }
 ],
 "metadata": {
  "kernelspec": {
   "display_name": "activation-ood-VPh-MuUw-py3.8",
   "language": "python",
   "name": "python3"
  },
  "language_info": {
   "codemirror_mode": {
    "name": "ipython",
    "version": 3
   },
   "file_extension": ".py",
   "mimetype": "text/x-python",
   "name": "python",
   "nbconvert_exporter": "python",
   "pygments_lexer": "ipython3",
   "version": "3.8.10"
  },
  "orig_nbformat": 4
 },
 "nbformat": 4,
 "nbformat_minor": 2
}
