{
 "cells": [
  {
   "attachments": {},
   "cell_type": "markdown",
   "metadata": {},
   "source": [
    "# Anomaly Score comparison"
   ]
  },
  {
   "cell_type": "code",
   "execution_count": 1,
   "metadata": {},
   "outputs": [],
   "source": [
    "import os\n",
    "import sys\n",
    "import numpy as np\n",
    "module_path = os.path.abspath(os.path.join(\"..\"))\n",
    "sys.path.append(module_path)\n",
    "import torch\n",
    "from torchvision import datasets\n",
    "\n",
    "from anomaly_scores.energy import energy_anomaly_score\n",
    "from anomaly_scores.max_logit import max_logit_anomaly_score\n",
    "from anomaly_scores.softmax import max_softmax_anomaly_score\n",
    "from anomaly_scores.vim_scores import VIM\n",
    "from energy_ood.CIFAR.models.wrn import WideResNet\n",
    "from energy_ood.utils.svhn_loader import SVHN\n",
    "from energy_ood.utils.tinyimages_80mn_loader import TinyImages\n",
    "from util import TEST_TRANSFORM, TINY_TRANSFORM\n",
    "from util.display_results import compare_all_results\n",
    "from util.get_ood_score import get_ood_score_for_multiple_datasets\n",
    "from vim_training.test import test"
   ]
  },
  {
   "attachments": {},
   "cell_type": "markdown",
   "metadata": {},
   "source": [
    "## The data\n",
    "Let's start with replicating the results from the paper. First, with the SVHN data set. "
   ]
  },
  {
   "cell_type": "code",
   "execution_count": 2,
   "metadata": {},
   "outputs": [],
   "source": [
    "loaders = []\n",
    "\n",
    "id_data = datasets.CIFAR10(\"../data/cifar10\", train=False, transform=TEST_TRANSFORM)\n",
    "id_loader = torch.utils.data.DataLoader(\n",
    "    id_data, batch_size=200, shuffle=False, num_workers=2, pin_memory=True\n",
    ")\n",
    "loaders.append((\"CIFAR10\", id_loader))\n",
    "\n",
    "\n",
    "ood_data = SVHN(\n",
    "    root=\"../data/svhn/\",\n",
    "    split=\"test\",\n",
    "    transform=TEST_TRANSFORM,\n",
    "    download=False,\n",
    ")\n",
    "ood_loader = torch.utils.data.DataLoader(\n",
    "    ood_data, batch_size=200, shuffle=True, num_workers=2, pin_memory=True\n",
    ")\n",
    "ood_num_examples = len(loaders[0][1].dataset) // 5\n",
    "loaders.append((\"SVHN\", ood_loader))\n",
    "\n",
    "\n",
    "data = datasets.CIFAR100(\"../data/cifar-100\", train=False, transform=TEST_TRANSFORM)\n",
    "loader = torch.utils.data.DataLoader(\n",
    "    data, batch_size=200, shuffle=True, num_workers=2, pin_memory=True\n",
    ")\n",
    "loaders.append((\"CIFAR100\", loader))"
   ]
  },
  {
   "attachments": {},
   "cell_type": "markdown",
   "metadata": {},
   "source": [
    "## Models\n",
    "\n",
    "We are using the Wide ResNet as in the paper."
   ]
  },
  {
   "cell_type": "code",
   "execution_count": 3,
   "metadata": {},
   "outputs": [],
   "source": [
    "models = []\n",
    "model = WideResNet(depth=40, num_classes=10, widen_factor=2, dropRate=0.3)\n",
    "model.load_state_dict(\n",
    "    torch.load(\n",
    "        \"../energy_ood/CIFAR/snapshots/pretrained/cifar10_wrn_pretrained_epoch_99.pt\"\n",
    "    )\n",
    ")\n",
    "model.eval()\n",
    "_ = model.cuda()\n",
    "models.append((\"WRN\", model))\n",
    "\n",
    "\n",
    "\n",
    "model = WideResNet(depth=40, num_classes=10, widen_factor=2, dropRate=0.3)\n",
    "model.load_state_dict(\n",
    "    torch.load(\n",
    "        \"../energy_ood/CIFAR/snapshots/energy_ft/cifar10_wrn_s1_energy_ft_epoch_9.pt\"\n",
    "    )\n",
    ")\n",
    "model.eval()\n",
    "_ = model.cuda()\n",
    "models.append((\"Energy_ft\", model))\n",
    "\n",
    "\n",
    "model = WideResNet(depth=40, num_classes=10, widen_factor=2, dropRate=0.3)\n",
    "model.load_state_dict(torch.load(\"../snapshots/energy/CIFAR10_WRN_epoch_9.pt\"))\n",
    "model.eval()\n",
    "_ = model.cuda()\n",
    "models.append((\"Energy_ft_ours\", model))\n",
    "\n",
    "model = WideResNet(depth=40, num_classes=10, widen_factor=2, dropRate=0.3)\n",
    "model.load_state_dict(torch.load(\"../snapshots/vanilla_ft/CIFAR10_WRN_epoch_9.pt\"))\n",
    "model.eval()\n",
    "_ = model.cuda()\n",
    "models.append((\"vanilla_ft\", model))"
   ]
  },
  {
   "attachments": {},
   "cell_type": "markdown",
   "metadata": {},
   "source": [
    "# Anomaly Scores\n",
    "Let's compare the scores."
   ]
  },
  {
   "cell_type": "code",
   "execution_count": 4,
   "metadata": {},
   "outputs": [
    {
     "name": "stdout",
     "output_type": "stream",
     "text": [
      "WRN\n",
      "   MaxLogit\n",
      "   MaxSoftmax\n",
      "   Energy\n",
      "   VIM\n",
      "Energy_ft\n",
      "   MaxLogit\n",
      "   MaxSoftmax\n",
      "   Energy\n",
      "   VIM\n",
      "Energy_ft_ours\n",
      "   MaxLogit\n",
      "   MaxSoftmax\n",
      "   Energy\n",
      "   VIM\n",
      "vanilla_ft\n",
      "   MaxLogit\n",
      "   MaxSoftmax\n",
      "   Energy\n",
      "   VIM\n"
     ]
    }
   ],
   "source": [
    "all_anomaly_results = {}\n",
    "for model_name, model in models:\n",
    "    print(model_name)\n",
    "    all_anomaly_results[model_name] = {}\n",
    "    vim = VIM(id_loader, model)\n",
    "\n",
    "    scores = [\n",
    "        (\"MaxLogit\", max_logit_anomaly_score),\n",
    "        (\"MaxSoftmax\", max_softmax_anomaly_score),\n",
    "        (\"Energy\", energy_anomaly_score),\n",
    "        (\"VIM\", vim.compute_anomaly_score),\n",
    "    ]\n",
    "\n",
    "    _, test_accuracy = test(model, loaders[0][1])\n",
    "    all_anomaly_results[model_name][\"test_acc\"] = test_accuracy\n",
    "\n",
    "    for name, score in scores:\n",
    "        print(\"  \", name)\n",
    "        results = get_ood_score_for_multiple_datasets(\n",
    "            loaders,\n",
    "            model,\n",
    "            score,\n",
    "            is_using=\"last\" if not name == \"VIM\" else \"last_penultimate\",\n",
    "            runs=3,\n",
    "        )\n",
    "        aurocs = [np.mean(result[0]) for result in results]\n",
    "        aurocs.append(np.mean(aurocs))\n",
    "        all_anomaly_results[model_name][name] = aurocs"
   ]
  },
  {
   "cell_type": "code",
   "execution_count": 5,
   "metadata": {},
   "outputs": [
    {
     "name": "stdout",
     "output_type": "stream",
     "text": [
      "              WRN (5.15%) |     SVHN     |   CIFAR100   |     AVG     \n",
      "======================================================================\n",
      "                 MaxLogit |    91.09%    |    87.21%    |    89.15%   \n",
      "               MaxSoftmax |    92.14%    |   *88.26%    |    90.20%   \n",
      "                   Energy |    90.93%    |    86.75%    |    88.84%   \n",
      "                      VIM |   *94.94%    |    85.72%    |   *90.33%   \n",
      "\n",
      "        Energy_ft (4.85%) |     SVHN     |   CIFAR100   |     AVG     \n",
      "======================================================================\n",
      "                 MaxLogit |    99.13%    |    93.49%    |    96.31%   \n",
      "               MaxSoftmax |    97.61%    |    92.20%    |    94.90%   \n",
      "                   Energy |   *99.13%    |   *93.56%    |   *96.35%   \n",
      "                      VIM |    64.87%    |    72.76%    |    68.82%   \n",
      "\n",
      "   Energy_ft_ours (4.88%) |     SVHN     |   CIFAR100   |     AVG     \n",
      "======================================================================\n",
      "                 MaxLogit |   *99.28%    |   *93.75%    |   *96.51%   \n",
      "               MaxSoftmax |    96.85%    |    92.16%    |    94.51%   \n",
      "                   Energy |    99.27%    |    93.63%    |    96.45%   \n",
      "                      VIM |    67.42%    |    72.71%    |    70.06%   \n",
      "\n",
      "       vanilla_ft (4.90%) |     SVHN     |   CIFAR100   |     AVG     \n",
      "======================================================================\n",
      "                 MaxLogit |    88.75%    |    87.15%    |    87.95%   \n",
      "               MaxSoftmax |    91.13%    |   *87.85%    |    89.49%   \n",
      "                   Energy |    88.73%    |    87.13%    |    87.93%   \n",
      "                      VIM |   *95.32%    |    85.66%    |   *90.49%   \n",
      "\n",
      "\n",
      "* highlights the maximum AUROC Score for an OOD Dataset\n"
     ]
    }
   ],
   "source": [
    "compare_all_results(all_anomaly_results, loaders)"
   ]
  }
 ],
 "metadata": {
  "kernelspec": {
   "display_name": "activation-ood-VPh-MuUw-py3.8",
   "language": "python",
   "name": "python3"
  },
  "language_info": {
   "codemirror_mode": {
    "name": "ipython",
    "version": 3
   },
   "file_extension": ".py",
   "mimetype": "text/x-python",
   "name": "python",
   "nbconvert_exporter": "python",
   "pygments_lexer": "ipython3",
   "version": "3.8.10"
  },
  "orig_nbformat": 4
 },
 "nbformat": 4,
 "nbformat_minor": 2
}
