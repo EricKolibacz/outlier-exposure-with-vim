{
 "cells": [
  {
   "attachments": {},
   "cell_type": "markdown",
   "metadata": {},
   "source": [
    "# Anomaly Score comparison"
   ]
  },
  {
   "cell_type": "code",
   "execution_count": 1,
   "metadata": {},
   "outputs": [],
   "source": [
    "import os\n",
    "import sys\n",
    "\n",
    "module_path = os.path.abspath(os.path.join(\"..\"))\n",
    "sys.path.append(module_path)\n",
    "import torch\n",
    "from torchvision import datasets\n",
    "\n",
    "from anomaly_scores.energy import energy_anomaly_score\n",
    "from anomaly_scores.max_logit import max_logit_anomaly_score\n",
    "from anomaly_scores.softmax import max_softmax_anomaly_score\n",
    "from anomaly_scores.vim_scores import VIM\n",
    "from energy_ood.CIFAR.models.wrn import WideResNet\n",
    "from energy_ood.utils.svhn_loader import SVHN\n",
    "from util import TEST_TRANSFORM\n",
    "from util.display_results import compare_all_results\n",
    "from util.get_ood_score import get_ood_score_for_multiple_datasets\n",
    "from vim_training.test import test"
   ]
  },
  {
   "attachments": {},
   "cell_type": "markdown",
   "metadata": {},
   "source": [
    "## The data\n",
    "Let's start with replicating the results from the paper. First, with the SVHN data set. "
   ]
  },
  {
   "cell_type": "code",
   "execution_count": 2,
   "metadata": {},
   "outputs": [],
   "source": [
    "loaders = []\n",
    "\n",
    "id_data = datasets.CIFAR10(\"../data/cifar10\", train=False, transform=TEST_TRANSFORM)\n",
    "id_loader = torch.utils.data.DataLoader(\n",
    "    id_data, batch_size=200, shuffle=False, num_workers=2, pin_memory=True\n",
    ")\n",
    "loaders.append((\"CIFAR10\", id_loader))\n",
    "\n",
    "\n",
    "ood_data = SVHN(\n",
    "    root=\"../data/svhn/\",\n",
    "    split=\"test\",\n",
    "    transform=TEST_TRANSFORM,\n",
    "    download=False,\n",
    ")\n",
    "ood_loader = torch.utils.data.DataLoader(\n",
    "    ood_data, batch_size=200, shuffle=True, num_workers=2, pin_memory=True\n",
    ")\n",
    "ood_num_examples = len(loaders[0][1].dataset) // 5\n",
    "loaders.append((\"SVHN\", ood_loader))\n",
    "\n",
    "\n",
    "data = datasets.CIFAR100(\"../data/cifar-100\", train=False, transform=TEST_TRANSFORM)\n",
    "loader = torch.utils.data.DataLoader(\n",
    "    data, batch_size=200, shuffle=True, num_workers=2, pin_memory=True\n",
    ")\n",
    "loaders.append((\"CIFAR100\", loader))"
   ]
  },
  {
   "attachments": {},
   "cell_type": "markdown",
   "metadata": {},
   "source": [
    "## Models\n",
    "\n",
    "We are using the Wide ResNet as in the paper."
   ]
  },
  {
   "cell_type": "code",
   "execution_count": 3,
   "metadata": {},
   "outputs": [
    {
     "name": "stdout",
     "output_type": "stream",
     "text": [
      "WRN Hendrycks Calib Seed1\n",
      "WRN Ours Seed1\n",
      "WRN Hendrycks Seed1\n",
      "WRN Hendrycks Seed64\n",
      "WRN Hendrycks Seed42\n"
     ]
    }
   ],
   "source": [
    "models = []\n",
    "\n",
    "model_folder = \"../snapshots/pretrained/\"\n",
    "\n",
    "for filename in  next(os.walk(model_folder), (None, None, []))[2]:\n",
    "    model_name = filename.split(\".\")[0].replace(\"_\",\" \")\n",
    "    print(model_name)\n",
    "    model = WideResNet(depth=40, num_classes=10, widen_factor=2, dropRate=0.3)\n",
    "    model.load_state_dict(\n",
    "        torch.load(\n",
    "            model_folder + filename\n",
    "        )\n",
    "    )\n",
    "    model.eval()\n",
    "    _ = model.cuda()\n",
    "    models.append((model_name, model))"
   ]
  },
  {
   "attachments": {},
   "cell_type": "markdown",
   "metadata": {},
   "source": [
    "# Anomaly Scores\n",
    "Let's compare the scores."
   ]
  },
  {
   "cell_type": "code",
   "execution_count": 5,
   "metadata": {},
   "outputs": [
    {
     "name": "stdout",
     "output_type": "stream",
     "text": [
      "WRN Hendrycks Calib Seed1\n",
      "   MaxLogit\n",
      "   MaxSoftmax\n",
      "   Energy\n",
      "   VIM\n",
      "WRN Ours Seed1\n",
      "   MaxLogit\n",
      "   MaxSoftmax\n",
      "   Energy\n",
      "   VIM\n",
      "WRN Hendrycks Seed1\n",
      "   MaxLogit\n",
      "   MaxSoftmax\n",
      "   Energy\n",
      "   VIM\n",
      "WRN Hendrycks Seed64\n",
      "   MaxLogit\n",
      "   MaxSoftmax\n",
      "   Energy\n",
      "   VIM\n",
      "WRN Hendrycks Seed42\n",
      "   MaxLogit\n",
      "   MaxSoftmax\n",
      "   Energy\n",
      "   VIM\n"
     ]
    }
   ],
   "source": [
    "import numpy as np\n",
    "aurocs_results = {}\n",
    "auprs_results = {}\n",
    "for model_name, model in models:\n",
    "    print(model_name)\n",
    "    aurocs_results[model_name] = {}\n",
    "    auprs_results[model_name] = {}\n",
    "    vim = VIM(id_loader, model)\n",
    "\n",
    "    scores = [\n",
    "        (\"MaxLogit\", max_logit_anomaly_score),\n",
    "        (\"MaxSoftmax\", max_softmax_anomaly_score),\n",
    "        (\"Energy\", energy_anomaly_score),\n",
    "        (\"VIM\", vim.compute_anomaly_score),\n",
    "    ]\n",
    "\n",
    "    _, test_accuracy = test(model, loaders[0][1])\n",
    "    aurocs_results[model_name][\"test_acc\"] = test_accuracy\n",
    "    auprs_results[model_name][\"test_acc\"] = test_accuracy\n",
    "\n",
    "    for name, score in scores:\n",
    "        print(\"  \", name)\n",
    "        results = get_ood_score_for_multiple_datasets(\n",
    "            loaders,\n",
    "            model,\n",
    "            score,\n",
    "            is_using=\"last\" if not name == \"VIM\" else \"last_penultimate\",\n",
    "        )\n",
    "        aurocs = [np.mean(aurocs) for aurocs, _, _ in results]\n",
    "        aurocs.append(np.mean(aurocs))\n",
    "        aurocs_results[model_name][name] = aurocs\n",
    "        auprs = [np.mean(auprs) for _, auprs, _ in results]\n",
    "        auprs.append(np.mean(auprs))\n",
    "        auprs_results[model_name][name] = auprs"
   ]
  },
  {
   "cell_type": "code",
   "execution_count": 6,
   "metadata": {},
   "outputs": [
    {
     "name": "stdout",
     "output_type": "stream",
     "text": [
      "WRN Hendrycks Calib Seed1 (5.58%) |     SVHN     |   CIFAR100   |     AVG     \n",
      "======================================================================\n",
      "                 MaxLogit |    86.54%    |    84.77%    |    85.66%   \n",
      "               MaxSoftmax |    87.64%    |   *86.67%    |    87.16%   \n",
      "                   Energy |    86.37%    |    85.78%    |    86.07%   \n",
      "                      VIM |   *89.90%    |    85.40%    |   *87.65%   \n",
      "\n",
      "   WRN Ours Seed1 (5.18%) |     SVHN     |   CIFAR100   |     AVG     \n",
      "======================================================================\n",
      "                 MaxLogit |    82.53%    |    86.49%    |    84.51%   \n",
      "               MaxSoftmax |    86.53%    |   *87.70%    |    87.11%   \n",
      "                   Energy |    81.91%    |    86.15%    |    84.03%   \n",
      "                      VIM |   *96.32%    |    86.85%    |   *91.58%   \n",
      "\n",
      "WRN Hendrycks Seed1 (5.15%) |     SVHN     |   CIFAR100   |     AVG     \n",
      "======================================================================\n",
      "                 MaxLogit |    91.03%    |    87.58%    |    89.31%   \n",
      "               MaxSoftmax |    92.21%    |   *88.68%    |    90.45%   \n",
      "                   Energy |    90.75%    |    87.98%    |    89.36%   \n",
      "                      VIM |   *95.07%    |    85.92%    |   *90.49%   \n",
      "\n",
      "WRN Hendrycks Seed64 (5.53%) |     SVHN     |   CIFAR100   |     AVG     \n",
      "======================================================================\n",
      "                 MaxLogit |   *94.02%    |    86.30%    |    90.16%   \n",
      "               MaxSoftmax |    93.60%    |   *87.51%    |   *90.56%   \n",
      "                   Energy |    93.75%    |    86.23%    |    89.99%   \n",
      "                      VIM |    93.04%    |    86.03%    |    89.53%   \n",
      "\n",
      "WRN Hendrycks Seed42 (5.36%) |     SVHN     |   CIFAR100   |     AVG     \n",
      "======================================================================\n",
      "                 MaxLogit |    89.30%    |    87.34%    |   *88.32%   \n",
      "               MaxSoftmax |    88.36%    |   *87.64%    |    88.00%   \n",
      "                   Energy |   *89.41%    |    87.08%    |    88.25%   \n",
      "                      VIM |    85.92%    |    84.43%    |    85.18%   \n",
      "\n",
      "\n",
      "* highlights the maximum AUROC Score for an OOD Dataset\n"
     ]
    }
   ],
   "source": [
    "compare_all_results(aurocs_results, loaders)"
   ]
  },
  {
   "cell_type": "code",
   "execution_count": 7,
   "metadata": {},
   "outputs": [
    {
     "name": "stdout",
     "output_type": "stream",
     "text": [
      "WRN Hendrycks Calib Seed1 (5.58%) |     SVHN     |   CIFAR100   |     AVG     \n",
      "======================================================================\n",
      "                 MaxLogit |    85.16%    |    85.33%    |    85.25%   \n",
      "               MaxSoftmax |    84.52%    |    84.61%    |    84.57%   \n",
      "                   Energy |    84.81%    |   *85.67%    |    85.24%   \n",
      "                      VIM |   *87.82%    |    85.36%    |   *86.59%   \n",
      "\n",
      "   WRN Ours Seed1 (5.18%) |     SVHN     |   CIFAR100   |     AVG     \n",
      "======================================================================\n",
      "                 MaxLogit |    83.56%    |    86.01%    |    84.79%   \n",
      "               MaxSoftmax |    84.58%    |    84.73%    |    84.66%   \n",
      "                   Energy |    82.76%    |    85.76%    |    84.26%   \n",
      "                      VIM |   *95.26%    |   *86.20%    |   *90.73%   \n",
      "\n",
      "WRN Hendrycks Seed1 (5.15%) |     SVHN     |   CIFAR100   |     AVG     \n",
      "======================================================================\n",
      "                 MaxLogit |    91.07%    |    87.24%    |    89.16%   \n",
      "               MaxSoftmax |    90.49%    |    86.47%    |    88.48%   \n",
      "                   Energy |    90.82%    |   *87.38%    |    89.10%   \n",
      "                      VIM |   *94.60%    |    84.43%    |   *89.51%   \n",
      "\n",
      "WRN Hendrycks Seed64 (5.53%) |     SVHN     |   CIFAR100   |     AVG     \n",
      "======================================================================\n",
      "                 MaxLogit |   *91.67%    |    85.11%    |    88.39%   \n",
      "               MaxSoftmax |    90.19%    |    84.29%    |    87.24%   \n",
      "                   Energy |    91.62%    |   *85.48%    |   *88.55%   \n",
      "                      VIM |    91.20%    |    84.96%    |    88.08%   \n",
      "\n",
      "WRN Hendrycks Seed42 (5.36%) |     SVHN     |   CIFAR100   |     AVG     \n",
      "======================================================================\n",
      "                 MaxLogit |    87.43%    |    86.18%    |    86.81%   \n",
      "               MaxSoftmax |    84.90%    |    84.54%    |    84.72%   \n",
      "                   Energy |   *87.53%    |   *86.23%    |   *86.88%   \n",
      "                      VIM |    81.15%    |    82.23%    |    81.69%   \n",
      "\n",
      "\n",
      "* highlights the maximum AUROC Score for an OOD Dataset\n"
     ]
    }
   ],
   "source": [
    "compare_all_results(auprs_results, loaders)"
   ]
  },
  {
   "cell_type": "code",
   "execution_count": null,
   "metadata": {},
   "outputs": [],
   "source": []
  }
 ],
 "metadata": {
  "kernelspec": {
   "display_name": "activation-ood-VPh-MuUw-py3.8",
   "language": "python",
   "name": "python3"
  },
  "language_info": {
   "codemirror_mode": {
    "name": "ipython",
    "version": 3
   },
   "file_extension": ".py",
   "mimetype": "text/x-python",
   "name": "python",
   "nbconvert_exporter": "python",
   "pygments_lexer": "ipython3",
   "version": "3.8.10"
  },
  "orig_nbformat": 4
 },
 "nbformat": 4,
 "nbformat_minor": 2
}
