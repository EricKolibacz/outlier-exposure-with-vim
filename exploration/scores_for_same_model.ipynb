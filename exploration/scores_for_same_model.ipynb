{
 "cells": [
  {
   "attachments": {},
   "cell_type": "markdown",
   "metadata": {},
   "source": [
    "# Anomaly Score comparison"
   ]
  },
  {
   "cell_type": "code",
   "execution_count": 1,
   "metadata": {},
   "outputs": [],
   "source": [
    "import os\n",
    "import sys\n",
    "\n",
    "module_path = os.path.abspath(os.path.join(\"..\"))\n",
    "sys.path.append(module_path)\n",
    "import torch\n",
    "from torchvision import datasets\n",
    "\n",
    "from anomaly_scores.energy import energy_anomaly_score\n",
    "from anomaly_scores.max_logit import max_logit_anomaly_score\n",
    "from anomaly_scores.softmax import max_softmax_anomaly_score\n",
    "from anomaly_scores.vim_scores import VIM\n",
    "from energy_ood.CIFAR.models.wrn import WideResNet\n",
    "from energy_ood.utils.svhn_loader import SVHN\n",
    "from util import TEST_TRANSFORM\n",
    "from util.display_results import compare_all_results\n",
    "from util.get_ood_score import get_ood_score_for_multiple_datasets\n",
    "from vim_training.test import test"
   ]
  },
  {
   "attachments": {},
   "cell_type": "markdown",
   "metadata": {},
   "source": [
    "## The data\n",
    "Let's start with replicating the results from the paper. First, with the SVHN data set. "
   ]
  },
  {
   "cell_type": "code",
   "execution_count": 2,
   "metadata": {},
   "outputs": [],
   "source": [
    "loaders = []\n",
    "\n",
    "id_data = datasets.CIFAR10(\"../data/cifar10\", train=False, transform=TEST_TRANSFORM)\n",
    "id_loader = torch.utils.data.DataLoader(\n",
    "    id_data, batch_size=200, shuffle=False, num_workers=2, pin_memory=True\n",
    ")\n",
    "loaders.append((\"CIFAR10\", id_loader))\n",
    "\n",
    "\n",
    "ood_data = SVHN(\n",
    "    root=\"../data/svhn/\",\n",
    "    split=\"test\",\n",
    "    transform=TEST_TRANSFORM,\n",
    "    download=False,\n",
    ")\n",
    "ood_loader = torch.utils.data.DataLoader(\n",
    "    ood_data, batch_size=200, shuffle=True, num_workers=2, pin_memory=True\n",
    ")\n",
    "ood_num_examples = len(loaders[0][1].dataset) // 5\n",
    "loaders.append((\"SVHN\", ood_loader))\n",
    "\n",
    "\n",
    "data = datasets.CIFAR100(\"../data/cifar-100\", train=False, transform=TEST_TRANSFORM)\n",
    "loader = torch.utils.data.DataLoader(\n",
    "    data, batch_size=200, shuffle=True, num_workers=2, pin_memory=True\n",
    ")\n",
    "loaders.append((\"CIFAR100\", loader))"
   ]
  },
  {
   "attachments": {},
   "cell_type": "markdown",
   "metadata": {},
   "source": [
    "## Models\n",
    "\n",
    "We are using the Wide ResNet as in the paper."
   ]
  },
  {
   "cell_type": "code",
   "execution_count": 3,
   "metadata": {},
   "outputs": [
    {
     "name": "stdout",
     "output_type": "stream",
     "text": [
      "WRN Hendrycks Calib Seed1\n",
      "WRN Ours Seed1\n",
      "WRN Hendrycks Seed1\n",
      "WRN Hendrycks Seed64\n",
      "WRN Hendrycks Seed42\n"
     ]
    }
   ],
   "source": [
    "models = []\n",
    "\n",
    "model_folder = \"../snapshots/pretrained/\"\n",
    "\n",
    "for filename in  next(os.walk(model_folder), (None, None, []))[2]:\n",
    "    model_name = filename.split(\".\")[0].replace(\"_\",\" \")\n",
    "    print(model_name)\n",
    "    model = WideResNet(depth=40, num_classes=10, widen_factor=2, dropRate=0.3)\n",
    "    model.load_state_dict(\n",
    "        torch.load(\n",
    "            model_folder + filename\n",
    "        )\n",
    "    )\n",
    "    model.eval()\n",
    "    _ = model.cuda()\n",
    "    models.append((model_name, model))"
   ]
  },
  {
   "attachments": {},
   "cell_type": "markdown",
   "metadata": {},
   "source": [
    "# Anomaly Scores\n",
    "Let's compare the scores."
   ]
  },
  {
   "cell_type": "code",
   "execution_count": 4,
   "metadata": {},
   "outputs": [
    {
     "name": "stdout",
     "output_type": "stream",
     "text": [
      "WRN Hendrycks Calib Seed1\n",
      "   MaxLogit\n",
      "   MaxSoftmax\n",
      "   Energy\n",
      "   VIM\n",
      "WRN Ours Seed1\n",
      "   MaxLogit\n",
      "   MaxSoftmax\n",
      "   Energy\n",
      "   VIM\n",
      "WRN Hendrycks Seed1\n",
      "   MaxLogit\n",
      "   MaxSoftmax\n",
      "   Energy\n",
      "   VIM\n",
      "WRN Hendrycks Seed64\n",
      "   MaxLogit\n",
      "   MaxSoftmax\n",
      "   Energy\n",
      "   VIM\n",
      "WRN Hendrycks Seed42\n",
      "   MaxLogit\n",
      "   MaxSoftmax\n",
      "   Energy\n",
      "   VIM\n"
     ]
    }
   ],
   "source": [
    "import numpy as np\n",
    "aurocs_results = {}\n",
    "for model_name, model in models:\n",
    "    print(model_name)\n",
    "    aurocs_results[model_name] = {}\n",
    "    vim = VIM(id_loader, model)\n",
    "\n",
    "    scores = [\n",
    "        (\"MaxLogit\", max_logit_anomaly_score),\n",
    "        (\"MaxSoftmax\", max_softmax_anomaly_score),\n",
    "        (\"Energy\", energy_anomaly_score),\n",
    "        (\"VIM\", vim.compute_anomaly_score),\n",
    "    ]\n",
    "\n",
    "    _, test_accuracy = test(model, loaders[0][1])\n",
    "    aurocs_results[model_name][\"test_acc\"] = test_accuracy\n",
    "\n",
    "    for name, score in scores:\n",
    "        print(\"  \", name)\n",
    "        results = get_ood_score_for_multiple_datasets(\n",
    "            loaders,\n",
    "            model,\n",
    "            score,\n",
    "            is_using=\"last\" if not name == \"VIM\" else \"last_penultimate\",\n",
    "        )\n",
    "        aurocs = [np.mean(aurocs) for aurocs, _, _ in results]\n",
    "        aurocs.append(np.mean(aurocs))\n",
    "        aurocs_results[model_name][name] = aurocs"
   ]
  },
  {
   "cell_type": "code",
   "execution_count": 5,
   "metadata": {},
   "outputs": [
    {
     "name": "stdout",
     "output_type": "stream",
     "text": [
      "WRN Hendrycks Calib Seed1 (5.58%) |     SVHN     |   CIFAR100   |     AVG     \n",
      "======================================================================\n",
      "                 MaxLogit |    86.57%    |    85.27%    |    85.92%   \n",
      "               MaxSoftmax |    88.17%    |   *87.08%    |    87.63%   \n",
      "                   Energy |    85.98%    |    85.98%    |    85.98%   \n",
      "                      VIM |   *90.28%    |    85.68%    |   *87.98%   \n",
      "\n",
      "   WRN Ours Seed1 (5.18%) |     SVHN     |   CIFAR100   |     AVG     \n",
      "======================================================================\n",
      "                 MaxLogit |    81.56%    |   *87.78%    |    84.67%   \n",
      "               MaxSoftmax |    86.82%    |    87.55%    |    87.18%   \n",
      "                   Energy |    81.64%    |    86.88%    |    84.26%   \n",
      "                      VIM |   *96.15%    |    86.95%    |   *91.55%   \n",
      "\n",
      "WRN Hendrycks Seed1 (5.15%) |     SVHN     |   CIFAR100   |     AVG     \n",
      "======================================================================\n",
      "                 MaxLogit |    91.04%    |    86.89%    |    88.97%   \n",
      "               MaxSoftmax |    92.18%    |   *88.40%    |    90.29%   \n",
      "                   Energy |    91.19%    |    86.82%    |    89.01%   \n",
      "                      VIM |   *94.52%    |    86.30%    |   *90.41%   \n",
      "\n",
      "WRN Hendrycks Seed64 (5.53%) |     SVHN     |   CIFAR100   |     AVG     \n",
      "======================================================================\n",
      "                 MaxLogit |   *94.00%    |   *87.65%    |   *90.82%   \n",
      "               MaxSoftmax |    93.45%    |    87.64%    |    90.55%   \n",
      "                   Energy |    93.57%    |    86.25%    |    89.91%   \n",
      "                      VIM |    92.71%    |    86.35%    |    89.53%   \n",
      "\n",
      "WRN Hendrycks Seed42 (5.36%) |     SVHN     |   CIFAR100   |     AVG     \n",
      "======================================================================\n",
      "                 MaxLogit |   *88.95%    |    87.53%    |    88.24%   \n",
      "               MaxSoftmax |    88.84%    |   *87.65%    |   *88.25%   \n",
      "                   Energy |    88.76%    |    86.75%    |    87.76%   \n",
      "                      VIM |    86.90%    |    84.63%    |    85.77%   \n",
      "\n",
      "\n",
      "* highlights the maximum AUROC Score for an OOD Dataset\n"
     ]
    }
   ],
   "source": [
    "compare_all_results(aurocs_results, loaders)"
   ]
  }
 ],
 "metadata": {
  "kernelspec": {
   "display_name": "activation-ood-VPh-MuUw-py3.8",
   "language": "python",
   "name": "python3"
  },
  "language_info": {
   "codemirror_mode": {
    "name": "ipython",
    "version": 3
   },
   "file_extension": ".py",
   "mimetype": "text/x-python",
   "name": "python",
   "nbconvert_exporter": "python",
   "pygments_lexer": "ipython3",
   "version": "3.8.10"
  },
  "orig_nbformat": 4
 },
 "nbformat": 4,
 "nbformat_minor": 2
}
